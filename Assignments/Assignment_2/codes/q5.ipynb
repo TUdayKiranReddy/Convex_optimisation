{
 "cells": [
  {
   "cell_type": "code",
   "execution_count": 1,
   "id": "07e002a5",
   "metadata": {},
   "outputs": [],
   "source": [
    "import numpy as np\n",
    "import cvxpy as cp\n",
    "import matplotlib.pyplot as plt"
   ]
  },
  {
   "cell_type": "code",
   "execution_count": 19,
   "id": "649bf948",
   "metadata": {},
   "outputs": [],
   "source": [
    "def f1(x, fi):\n",
    "    m = cp.Variable()\n",
    "    c = cp.Variable()\n",
    "    \n",
    "    Objective = cp.Minimize(m*x+c)\n",
    "    Constraint = []\n",
    "    for i, f in enumerate(fi):\n",
    "        Constraint.append(f <= m*i+c)\n",
    "        \n",
    "    problem = cp.Problem(objective=Objective, constraints=Constraint)\n",
    "    problem.solve()\n",
    "    return m.value*x + c.value"
   ]
  },
  {
   "cell_type": "code",
   "execution_count": 28,
   "id": "92a480b4",
   "metadata": {},
   "outputs": [],
   "source": [
    "def f2(x, fi):\n",
    "    n = len(fi)\n",
    "    F = np.array(fi).reshape(-1, 1)\n",
    "    alpha = cp.Variable((n, 1))\n",
    "    \n",
    "    Objective = cp.Maximize(alpha.T@F)\n",
    "    Constraint = [\n",
    "                    alpha.T@np.arange(n).reshape(-1, 1) == x,\n",
    "                    alpha >= 0,\n",
    "                    np.ones((1, n))@alpha == 1\n",
    "                 ]\n",
    "    problem = cp.Problem(objective=Objective, constraints=Constraint)\n",
    "    problem.solve()\n",
    "    return (alpha.value.T@F)[0, 0]"
   ]
  },
  {
   "cell_type": "code",
   "execution_count": 29,
   "id": "4c6faf12",
   "metadata": {},
   "outputs": [],
   "source": [
    "def f3(x, fi):\n",
    "    n = len(fi)\n",
    "    F = np.array(fi).reshape(-1, 1)\n",
    "    alpha = cp.Variable((n, 1))\n",
    "    \n",
    "    Objective = cp.Minimize(alpha.T@F)\n",
    "    Constraint = [\n",
    "                    alpha.T@np.arange(n).reshape(-1, 1) == x,\n",
    "                    alpha >= 0,\n",
    "                    np.ones((1, n))@alpha == 1\n",
    "                 ]\n",
    "    problem = cp.Problem(objective=Objective, constraints=Constraint)\n",
    "    problem.solve()\n",
    "    return (alpha.value.T@F)[0, 0]"
   ]
  },
  {
   "cell_type": "code",
   "execution_count": 36,
   "id": "aa00fae7",
   "metadata": {
    "scrolled": true
   },
   "outputs": [],
   "source": [
    "N = 4\n",
    "x = np.linspace(0, N-1, 100)\n",
    "\n",
    "fi = [1, 0, 2, 1]\n",
    "\n",
    "f1i = []\n",
    "f2i = []\n",
    "f3i = []\n",
    "\n",
    "for i in x:\n",
    "#     print(i)\n",
    "    f1i.append(f1(i, fi))\n",
    "    f2i.append(f2(i, fi))\n",
    "    f3i.append(f3(i, fi))"
   ]
  },
  {
   "cell_type": "code",
   "execution_count": 39,
   "id": "795fdb3f",
   "metadata": {},
   "outputs": [
    {
     "data": {
      "image/png": "[encoded data removed]",
      "text/plain": [
       "<Figure size 432x288 with 1 Axes>"
      ]
     },
     "metadata": {
      "needs_background": "light"
     },
     "output_type": "display_data"
    }
   ],
   "source": [
    "plt.figure()\n",
    "plt.plot(fi, '*', label='f(i)')\n",
    "plt.plot(x, f1i, label=r'$f_1(x)$')\n",
    "plt.plot(x, f2i, label=r'$f_2(x)$')\n",
    "plt.plot(x, f3i, label=r'$f_3(x)$')\n",
    "plt.legend()\n",
    "plt.xlabel('x')\n",
    "plt.ylabel('f(x)')\n",
    "plt.grid()\n",
    "plt.savefig('../figs/q5.png')"
   ]
  }
 ],
 "metadata": {
  "kernelspec": {
   "display_name": "Python 3",
   "language": "python",
   "name": "python3"
  },
  "language_info": {
   "codemirror_mode": {
    "name": "ipython",
    "version": 3
   },
   "file_extension": ".py",
   "mimetype": "text/x-python",
   "name": "python",
   "nbconvert_exporter": "python",
   "pygments_lexer": "ipython3",
   "version": "3.8.10"
  }
 },
 "nbformat": 4,
 "nbformat_minor": 5
}
