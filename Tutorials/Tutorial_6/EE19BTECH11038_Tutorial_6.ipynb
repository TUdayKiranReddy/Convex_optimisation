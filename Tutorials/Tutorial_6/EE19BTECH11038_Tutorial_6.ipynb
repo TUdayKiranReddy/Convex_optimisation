{
 "cells": [
  {
   "cell_type": "markdown",
   "id": "e2865210",
   "metadata": {},
   "source": [
    "# (a)\n",
    "Let $\\overline{x}$ represents portion of hours spent on each day.\\\n",
    "Then production for 5 days would be $\\overline{p} = \\frac{5}{24} \\begin{bmatrix} 6000 & 0 & 0 \\\\ 0 & 5000 & 0 \\\\ 0 & 0 & 3000\\end{bmatrix}\\overline{x}$.\n",
    "## Objective\n",
    "We have to maximize the profit which is $\\mathbf{max\\{\\begin{bmatrix}4 & 6 & 10\\end{bmatrix}\\overline{p}\\}}$\n",
    "## Constraints\n",
    "1. Non-negativity, $\\overline{x} \\ge 0$.\n",
    "2. Time constraint, $\\overline{\\mathbf{1}}^T\\overline{x} \\le 24$\n",
    "3. Space constraint, $10^{-3}\\begin{bmatrix} 40 & 45 & 210\\end{bmatrix}\\overline{p} \\le 6000$\n",
    "4. Maximum production, $\\overline{p} \\le \\begin{bmatrix} 10000 \\\\ 15000 \\\\ 8000\\end{bmatrix}$\n",
    "5. Minimum production, $\\overline{p} \\ge \\begin{bmatrix} 5000 \\\\ 0 \\\\ 4000\\end{bmatrix}$"
   ]
  },
  {
   "cell_type": "code",
   "execution_count": 1,
   "id": "ff74c098",
   "metadata": {},
   "outputs": [],
   "source": [
    "import numpy as np\n",
    "import cvxpy as cp"
   ]
  },
  {
   "cell_type": "code",
   "execution_count": 2,
   "id": "215f44d6",
   "metadata": {},
   "outputs": [],
   "source": [
    "x = cp.Variable((3, 1))\n",
    "\n",
    "production_per_hour = np.diag(np.array([6000, 5000, 3000]))/24\n",
    "profit_perItem = np.array([4, 6, 10]).reshape(-1, 1)\n",
    "space = 1e-3*np.array([40, 45, 210]).reshape(-1, 1)\n",
    "min_prod = np.array([5000, 0, 4000]).reshape(-1, 1)\n",
    "max_prod = np.array([10000, 15000, 8000]).reshape(-1, 1)\n",
    "\n",
    "time_per_day = cp.sum(x)\n",
    "totalItems_produced = 5*production_per_hour@x\n",
    "profit = profit_perItem.T@totalItems_produced\n",
    "\n",
    "\n",
    "Objective = cp.Maximize(profit)\n",
    "Constraints = [\n",
    "                x >= 0,\n",
    "                time_per_day <= 24,\n",
    "                space.T@totalItems_produced <= 6000,\n",
    "                totalItems_produced >= min_prod,\n",
    "                totalItems_produced <= max_prod\n",
    "              ]\n",
    "\n",
    "problem = cp.Problem(objective=Objective, constraints=Constraints)\n",
    "problem.solve();"
   ]
  },
  {
   "cell_type": "code",
   "execution_count": 3,
   "id": "61227b80",
   "metadata": {},
   "outputs": [
    {
     "name": "stdout",
     "output_type": "stream",
     "text": [
      "Profit with formulation (a) = 145000.0\n",
      "\n",
      "Production portion per each day\n",
      "x1 = 4.0 hours\n",
      "x2 = 7.39 hours\n",
      "x3 = 12.61 hours\n"
     ]
    }
   ],
   "source": [
    "print(\"Profit with formulation (a) = {}\".format(np.round(problem.value)))\n",
    "print(\"\\nProduction portion per each day\")\n",
    "print(\"x1 = {} hours\".format(np.round(x.value[0, 0], 2)))\n",
    "print(\"x2 = {} hours\".format(np.round(x.value[1, 0], 2)))\n",
    "print(\"x3 = {} hours\".format(np.round(x.value[2, 0], 2)))\n",
    "\n",
    "x = x.value"
   ]
  },
  {
   "cell_type": "markdown",
   "id": "3b10dedd",
   "metadata": {},
   "source": [
    "# (b)\n",
    "Let $\\overline{y}$ represents number of items produced.\n",
    "## Objective\n",
    "We have to maximize the profit which is $\\mathbf{max\\{\\begin{bmatrix}4 & 6 & 10\\end{bmatrix}\\overline{y}\\}}$\n",
    "## Constraints\n",
    "1. Non-negativity, $\\overline{y} \\ge 0$.\n",
    "2. Time constraint, $\\begin{bmatrix} \\frac{1}{6000} & 0 & 0 \\\\ 0 & \\frac{1}{5000} & 0 \\\\ 0 & 0 & \\frac{1}{3000}\\end{bmatrix}\\overline{y} \\le 5$\n",
    "3. Space constraint, $10^{-3}\\begin{bmatrix} 40 & 45 & 210\\end{bmatrix}\\overline{y} \\le 6000$\n",
    "4. Maximum production, $\\overline{y} \\le \\begin{bmatrix} 10000 \\\\ 15000 \\\\ 8000\\end{bmatrix}$\n",
    "5. Minimum production, $\\overline{y} \\ge \\begin{bmatrix} 5000 \\\\ 0 \\\\ 4000\\end{bmatrix}$"
   ]
  },
  {
   "cell_type": "code",
   "execution_count": 4,
   "id": "a104df3f",
   "metadata": {},
   "outputs": [],
   "source": [
    "y = cp.Variable((3, 1))\n",
    "\n",
    "preday_limit = np.array([6000, 5000, 3000]).reshape(-1, 1)\n",
    "profit = profit_perItem.T@y\n",
    "\n",
    "Objective = cp.Maximize(profit)\n",
    "Constraints = [\n",
    "                y >= 0,\n",
    "                y[0]/6000 + y[1]/5000 + y[2]/3000 <= 5,\n",
    "                y >= min_prod,\n",
    "                y <= max_prod,\n",
    "                space.T@y <= 6000\n",
    "              ]\n",
    "problem = cp.Problem(objective=Objective, constraints=Constraints)\n",
    "problem.solve();"
   ]
  },
  {
   "cell_type": "code",
   "execution_count": 5,
   "id": "94d245a3",
   "metadata": {},
   "outputs": [
    {
     "name": "stdout",
     "output_type": "stream",
     "text": [
      "Profit with formulation (b) = 145000.0\n",
      "\n",
      "Production portion per each day\n",
      "y1 = 5000.0\n",
      "y2 = 7621.55\n",
      "y3 = 7927.07\n"
     ]
    }
   ],
   "source": [
    "print(\"Profit with formulation (b) = {}\".format(np.round(problem.value)))\n",
    "print(\"\\nProduction portion per each day\")\n",
    "print(\"y1 = {}\".format(np.round(y.value[0, 0], 2)))\n",
    "print(\"y2 = {}\".format(np.round(y.value[1, 0], 2)))\n",
    "print(\"y3 = {}\".format(np.round(y.value[2, 0], 2)))\n",
    "\n",
    "y = y.value"
   ]
  },
  {
   "cell_type": "markdown",
   "id": "05ad064e",
   "metadata": {},
   "source": [
    "# (c)\n",
    "Let $\\overline{z}$ represents portion of hours spent per week.\\\n",
    "Then production for 5 days would be $\\overline{p} = \\frac{1}{8} \\begin{bmatrix} 6000 & 0 & 0 \\\\ 0 & 5000 & 0 \\\\ 0 & 0 & 3000\\end{bmatrix}\\overline{z}$.\n",
    "## Objective\n",
    "We have to maximize the profit which is $\\mathbf{max\\{\\begin{bmatrix}4 & 6 & 10\\end{bmatrix}\\overline{p}\\}}$\n",
    "## Constraints\n",
    "1. Non-negativity, $\\overline{z} \\ge 0$.\n",
    "2. Time constraint, $\\mathbf{\\overline{1}}^T\\overline{z} \\le 40$\n",
    "3. Space constraint, $10^{-3}\\begin{bmatrix} 40 & 45 & 210\\end{bmatrix}\\overline{p} \\le 6000$\n",
    "4. Maximum production, $\\overline{p} \\le \\begin{bmatrix} 10000 \\\\ 15000 \\\\ 8000\\end{bmatrix}$\n",
    "5. Minimum production, $\\overline{p} \\ge \\begin{bmatrix} 5000 \\\\ 0 \\\\ 4000\\end{bmatrix}$"
   ]
  },
  {
   "cell_type": "code",
   "execution_count": 6,
   "id": "b4bb9202",
   "metadata": {},
   "outputs": [],
   "source": [
    "z = cp.Variable((3, 1))\n",
    "\n",
    "production_per_hour = np.diag(np.array([6000, 5000, 3000]))/8\n",
    "\n",
    "totalItems_produced = production_per_hour@z\n",
    "profit = profit_perItem.T@totalItems_produced\n",
    "\n",
    "Objective = cp.Maximize(profit)\n",
    "Constraints = [\n",
    "                z >= 0,\n",
    "                cp.sum(z) <= 5*8,\n",
    "                totalItems_produced >= min_prod,\n",
    "                totalItems_produced <= max_prod,\n",
    "                space.T@totalItems_produced <= 6000\n",
    "              ]\n",
    "problem = cp.Problem(objective=Objective, constraints=Constraints)\n",
    "problem.solve();"
   ]
  },
  {
   "cell_type": "code",
   "execution_count": 7,
   "id": "0073fcc5",
   "metadata": {},
   "outputs": [
    {
     "name": "stdout",
     "output_type": "stream",
     "text": [
      "Profit with formulation (c) = 145000.0\n",
      "\n",
      "Production hours per week\n",
      "z1 = 6.67\n",
      "z2 = 13.3\n",
      "z3 = 20.03\n"
     ]
    }
   ],
   "source": [
    "print(\"Profit with formulation (c) = {}\".format(np.round(problem.value)))\n",
    "print(\"\\nProduction hours per week\")\n",
    "print(\"z1 = {}\".format(np.round(z.value[0, 0], 2)))\n",
    "print(\"z2 = {}\".format(np.round(z.value[1, 0], 2)))\n",
    "print(\"z3 = {}\".format(np.round(z.value[2, 0], 2)))\n",
    "\n"
   ]
  },
  {
   "cell_type": "code",
   "execution_count": 8,
   "id": "a1544594",
   "metadata": {},
   "outputs": [
    {
     "name": "stdout",
     "output_type": "stream",
     "text": [
      "\n",
      "Production hours per day\n",
      "iPod = 1.33\n",
      "iPhone = 2.66\n",
      "iPad = 4.01\n"
     ]
    }
   ],
   "source": [
    "print(\"\\nProduction hours per day\")\n",
    "print(\"iPod = {}\".format(np.round(z.value[0, 0]/5, 2)))\n",
    "print(\"iPhone = {}\".format(np.round(z.value[1, 0]/5, 2)))\n",
    "print(\"iPad = {}\".format(np.round(z.value[2, 0]/5, 2)))\n",
    "z = z.value"
   ]
  },
  {
   "cell_type": "markdown",
   "id": "e7306a72",
   "metadata": {},
   "source": [
    "# (d)\n",
    "$\\overline{z} = \\frac{5\\overline{x}}{3}$"
   ]
  },
  {
   "cell_type": "code",
   "execution_count": 9,
   "id": "af8f0631",
   "metadata": {},
   "outputs": [
    {
     "name": "stdout",
     "output_type": "stream",
     "text": [
      "z/x =  [[1.66666667]\n",
      " [1.80013507]\n",
      " [1.58844687]]\n"
     ]
    }
   ],
   "source": [
    "print(\"z/x = \", z/x)"
   ]
  }
 ],
 "metadata": {
  "kernelspec": {
   "display_name": "Python 3",
   "language": "python",
   "name": "python3"
  },
  "language_info": {
   "codemirror_mode": {
    "name": "ipython",
    "version": 3
   },
   "file_extension": ".py",
   "mimetype": "text/x-python",
   "name": "python",
   "nbconvert_exporter": "python",
   "pygments_lexer": "ipython3",
   "version": "3.8.10"
  }
 },
 "nbformat": 4,
 "nbformat_minor": 5
}
