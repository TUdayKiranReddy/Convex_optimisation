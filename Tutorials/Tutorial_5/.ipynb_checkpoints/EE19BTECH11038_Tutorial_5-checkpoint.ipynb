{
 "cells": [
  {
   "cell_type": "code",
   "execution_count": 1,
   "id": "39e11ecc",
   "metadata": {},
   "outputs": [],
   "source": [
    "import numpy as np\n",
    "import cvxpy as cp"
   ]
  },
  {
   "cell_type": "markdown",
   "id": "411ac1c1",
   "metadata": {},
   "source": [
    "## DATASET"
   ]
  },
  {
   "cell_type": "code",
   "execution_count": 2,
   "id": "8166735b",
   "metadata": {},
   "outputs": [],
   "source": [
    "C = np.matrix([[8, 6, 10, 9, 8], [9, 12, 13, 7, 5], [14, 9, 16, 5, 2]])\n",
    "S = np.array([40, 50, 45]).reshape(-1, 1)\n",
    "D = np.array([45, 20, 30, 30, 10]).reshape(-1, 1)"
   ]
  },
  {
   "cell_type": "markdown",
   "id": "01ea5fb1",
   "metadata": {},
   "source": [
    "## CVX problem formulation\n",
    "1. **C** is cost matrix.\n",
    "2. $\\overline{S}$ is total supply.\n",
    "3. $\\overline{D}$ is total demand.\n",
    "4. **A** is the startegy matrix.\n",
    "\n",
    "Total cost = $\\mathbf{C}^T\\mathbf{A}$\n",
    "**Constraints**\n",
    "1. Positive supplies, $\\mathbf{A} \\ge 0$\n",
    "2. Meet the demand, $\\mathbf{A}^T\\overline{\\mathbf{1}} = \\overline{D}$\n",
    "3. Restriction on maximum supply, $\\mathbf{A}\\overline{\\mathbf{1}} \\le \\overline{S}$"
   ]
  },
  {
   "cell_type": "code",
   "execution_count": 3,
   "id": "35b9ba15",
   "metadata": {},
   "outputs": [],
   "source": [
    "A = cp.Variable((C.shape[0], C.shape[1]))\n",
    "\n",
    "ones_1 = np.ones((C.shape[0], 1))\n",
    "ones_2 = np.ones((C.shape[1], 1))\n",
    "\n",
    "Constraints = [A.T@ones_1 == D, A@ones_2 <= S, A >= 0]\n",
    "cost = cp.trace(C.T@A)"
   ]
  },
  {
   "cell_type": "code",
   "execution_count": 4,
   "id": "7c2a1564",
   "metadata": {},
   "outputs": [],
   "source": [
    "Objective = cp.Minimize(cost)\n",
    "\n",
    "problem = cp.Problem(objective=Objective, constraints= Constraints)\n",
    "problem.solve();"
   ]
  },
  {
   "cell_type": "code",
   "execution_count": 5,
   "id": "28268e2e",
   "metadata": {},
   "outputs": [
    {
     "name": "stdout",
     "output_type": "stream",
     "text": [
      "+-----------+------+------+------+------+------+--------+\n",
      "|  Factory  |  D1  |  D2  |  D3  |  D4  |  D5  | Supply |\n",
      "+-----------+------+------+------+------+------+--------+\n",
      "| Factory 1 | 0.0  | 15.0 | 25.0 | 0.0  | 0.0  |  40.0  |\n",
      "| Factory 2 | 45.0 | 0.0  | 5.0  | 0.0  | 0.0  |  50.0  |\n",
      "| Factory 3 | 0.0  | 5.0  | 0.0  | 30.0 | 10.0 |  45.0  |\n",
      "+-----------+------+------+------+------+------+--------+\n",
      "+--------+------+------+------+------+------+\n",
      "| Demand |  D1  |  D2  |  D3  |  D4  |  D5  |\n",
      "+--------+------+------+------+------+------+\n",
      "|        | 45.0 | 20.0 | 30.0 | 30.0 | 10.0 |\n",
      "+--------+------+------+------+------+------+\n",
      "################ Total Cost #################\n",
      "################   1025.0   #################\n"
     ]
    }
   ],
   "source": [
    "# Print optimal transportation\n",
    "A_value = np.round(A.value, 2)\n",
    "from prettytable import PrettyTable\n",
    "\n",
    "table = PrettyTable([\"Factory\", \"D1\", \"D2\", \"D3\", \"D4\", \"D5\", \"Supply\"])\n",
    "for i in range(C.shape[0]):\n",
    "    table.add_row([\"Factory {}\".format(i+1), A_value[i, 0], A_value[i, 1], A_value[i, 2], \n",
    "                   A_value[i, 3], A_value[i, 4], np.sum(A_value[i, :])])\n",
    "print(table)\n",
    "\n",
    "demand_table = PrettyTable([\"Demand\", \"D1\", \"D2\", \"D3\", \"D4\", \"D5\"])\n",
    "demand_table.add_row([\"\", np.sum(A_value[:, 0]), np.sum(A_value[:, 1]), np.sum(A_value[:, 2]), \n",
    "                            np.sum(A_value[:, 3]), np.sum(A_value[:, 4])])\n",
    "print(demand_table)\n",
    "print(\"################ Total Cost #################\")\n",
    "print(\"################   {}   #################\".format(np.round(cost.value, 3)))"
   ]
  }
 ],
 "metadata": {
  "kernelspec": {
   "display_name": "Python 3",
   "language": "python",
   "name": "python3"
  },
  "language_info": {
   "codemirror_mode": {
    "name": "ipython",
    "version": 3
   },
   "file_extension": ".py",
   "mimetype": "text/x-python",
   "name": "python",
   "nbconvert_exporter": "python",
   "pygments_lexer": "ipython3",
   "version": "3.8.10"
  }
 },
 "nbformat": 4,
 "nbformat_minor": 5
}
