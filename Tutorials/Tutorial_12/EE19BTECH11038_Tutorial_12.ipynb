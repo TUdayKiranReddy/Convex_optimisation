{
 "cells": [
  {
   "cell_type": "code",
   "execution_count": 1,
   "id": "a3fa628f",
   "metadata": {},
   "outputs": [],
   "source": [
    "import cvxpy as cp\n",
    "import numpy as np"
   ]
  },
  {
   "cell_type": "markdown",
   "id": "43aab62f",
   "metadata": {},
   "source": [
    "# Data"
   ]
  },
  {
   "cell_type": "code",
   "execution_count": 2,
   "id": "9e218d3b",
   "metadata": {},
   "outputs": [],
   "source": [
    "np.random.seed(10)\n",
    "\n",
    "(m, n) = (30, 10)\n",
    "\n",
    "A = np.random.rand(m, n); A = np.asmatrix(A)\n",
    "b = np.random.rand(m, 1); b = np.asmatrix(b)\n",
    "c_nom = np.ones((n, 1)) + np.random.rand(n, 1); c_nom = np.asmatrix(c_nom)"
   ]
  },
  {
   "cell_type": "markdown",
   "id": "a29a14a1",
   "metadata": {},
   "source": [
    "# Optimisation Problem"
   ]
  },
  {
   "cell_type": "code",
   "execution_count": 3,
   "id": "ff66d964",
   "metadata": {},
   "outputs": [],
   "source": [
    "F = np.vstack((np.eye(n), -1*np.eye(n), np.ones((1, n))/n, -1*np.ones((1, n))/n))\n",
    "g = np.vstack((1.25*c_nom, -0.75*c_nom, 1.1*np.sum(c_nom)/n, -0.9*np.sum(c_nom)/n))"
   ]
  },
  {
   "cell_type": "code",
   "execution_count": 4,
   "id": "fc5601f2",
   "metadata": {},
   "outputs": [],
   "source": [
    "lamda = cp.Variable((F.shape[0], 1))\n",
    "x = cp.Variable((n, 1))"
   ]
  },
  {
   "cell_type": "code",
   "execution_count": 5,
   "id": "ac7ba9a9",
   "metadata": {},
   "outputs": [],
   "source": [
    "Objective = cp.Minimize(lamda.T@g)\n",
    "Constraint = [F.T@lamda  == x, lamda >= 0, A@x >= b]"
   ]
  },
  {
   "cell_type": "code",
   "execution_count": 6,
   "id": "814f71d9",
   "metadata": {
    "scrolled": true
   },
   "outputs": [],
   "source": [
    "problem = cp.Problem(objective=Objective, constraints=Constraint)\n",
    "problem.solve();"
   ]
  },
  {
   "cell_type": "code",
   "execution_count": 7,
   "id": "6273a23b",
   "metadata": {},
   "outputs": [
    {
     "name": "stdout",
     "output_type": "stream",
     "text": [
      "Worst-case cost f(x) for the robust problem is 3.166\n"
     ]
    }
   ],
   "source": [
    "print(\"Worst-case cost f(x) for the robust problem is {}\".format(np.round((g.T@lamda.value)[0, 0], 3)))"
   ]
  },
  {
   "cell_type": "code",
   "execution_count": 8,
   "id": "8ab91830",
   "metadata": {},
   "outputs": [
    {
     "name": "stdout",
     "output_type": "stream",
     "text": [
      "Nominal cost of c_norm^T x for x optimal for the robust problem is 2.523\n",
      "Nominal cost of c_norm^T x for x optimal for the nominal problem is 2.109\n"
     ]
    }
   ],
   "source": [
    "print(\"Nominal cost of c_norm^T x for x optimal for the robust problem is {}\".format(np.round((c_nom.T@x.value)[0, 0], 3)))\n",
    "\n",
    "x = cp.Variable((n, 1))\n",
    "problem = cp.Problem(objective=cp.Minimize(c_nom.T@x), constraints=[A@x >= b])\n",
    "problem.solve();\n",
    "\n",
    "\n",
    "print(\"Nominal cost of c_norm^T x for x optimal for the nominal problem is {}\".format(np.round((c_nom.T@x.value)[0, 0], 3)))"
   ]
  },
  {
   "cell_type": "code",
   "execution_count": 9,
   "id": "68177ec5",
   "metadata": {},
   "outputs": [
    {
     "name": "stdout",
     "output_type": "stream",
     "text": [
      "Worst-case cost f(x) for the nominal problem is 7.222\n"
     ]
    }
   ],
   "source": [
    "c = cp.Variable((n, 1))\n",
    "\n",
    "problem = cp.Problem(objective=cp.Maximize(c.T@x.value), constraints=[F@c <= g])\n",
    "problem.solve();\n",
    "print(\"Worst-case cost f(x) for the nominal problem is {}\".format(np.round((c.value.T@x.value)[0, 0], 3)))"
   ]
  }
 ],
 "metadata": {
  "kernelspec": {
   "display_name": "Python 3",
   "language": "python",
   "name": "python3"
  },
  "language_info": {
   "codemirror_mode": {
    "name": "ipython",
    "version": 3
   },
   "file_extension": ".py",
   "mimetype": "text/x-python",
   "name": "python",
   "nbconvert_exporter": "python",
   "pygments_lexer": "ipython3",
   "version": "3.8.10"
  }
 },
 "nbformat": 4,
 "nbformat_minor": 5
}
