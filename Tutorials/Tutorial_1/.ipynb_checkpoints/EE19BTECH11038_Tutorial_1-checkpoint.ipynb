{
 "cells": [
  {
   "cell_type": "code",
   "execution_count": 1,
   "id": "d88f9503",
   "metadata": {},
   "outputs": [],
   "source": [
    "# Importing libraries like Numpy, CVXpy\n",
    "import numpy as np\n",
    "import cvxpy as cp"
   ]
  },
  {
   "cell_type": "code",
   "execution_count": 2,
   "id": "dc0f2317",
   "metadata": {},
   "outputs": [],
   "source": [
    "num_of_servings = cp.Variable((3, 1), integer=False) # Defining a vector which represents number of servings \n",
    "                                                     # for each food item\n",
    "\n",
    "cost_per_serving = np.matrix([0.18, 0.23, 0.05]) # Cost per serving of each item\n",
    "vitaminA_per_serving = np.matrix([107, 500, 0]) # Vitamin A per serving of each item\n",
    "calories_per_serving = np.matrix([72, 121, 65]) # Calories per serving of each item"
   ]
  },
  {
   "cell_type": "code",
   "execution_count": 3,
   "id": "adf3c8e8",
   "metadata": {},
   "outputs": [],
   "source": [
    "totalCost = cp.matmul(cost_per_serving, num_of_servings) # Total cost\n",
    "totalVitA = cp.matmul(vitaminA_per_serving, num_of_servings) # Total Vitamin A\n",
    "totalCalories = cp.matmul(calories_per_serving, num_of_servings) # Total "
   ]
  },
  {
   "cell_type": "code",
   "execution_count": 4,
   "id": "51e9b70e",
   "metadata": {},
   "outputs": [],
   "source": [
    "# Constraints are\n",
    "# 10 >= #servings >= 0\n",
    "# 50000 >= Total Vitamin A >= 5000\n",
    "# 2250 >= Total Calories >= 2000\n",
    "Constraints = [num_of_servings>=0, num_of_servings<=10, totalVitA>=5000, totalVitA<=50000,\n",
    "               totalCalories>=2000, totalCalories<=2250]\n",
    "\n",
    "# Our objective is to minimize the total cost adhereing to above constraints\n",
    "Objective = cp.Minimize(totalCost)"
   ]
  },
  {
   "cell_type": "code",
   "execution_count": 5,
   "id": "ae5fea85",
   "metadata": {},
   "outputs": [],
   "source": [
    "prob = cp.Problem(objective=Objective, constraints=Constraints) # Defining the problem\n",
    "prob.solve(); # Solving the problem"
   ]
  },
  {
   "cell_type": "code",
   "execution_count": 6,
   "id": "4049ca94",
   "metadata": {},
   "outputs": [
    {
     "name": "stdout",
     "output_type": "stream",
     "text": [
      "Optimal number of servings:\n",
      "\tCorn 1.9444444535200909\n",
      "\tMilk 9.999999997182941\n",
      "\tWheat Bread 9.999999997206823\n",
      "\n",
      "Total cost is 3.1500000008460343\n",
      "Total vitamin A is 5208.0555551181205\n",
      "Total calories is 2000.000000131026\n"
     ]
    }
   ],
   "source": [
    "opt_servings = num_of_servings.value # Taking numpy matrix from cvxpy variable\n",
    "\n",
    "print(\"Optimal number of servings:\")\n",
    "print(\"\\tCorn {}\".format(opt_servings[0, 0]))\n",
    "print(\"\\tMilk {}\".format(opt_servings[1, 0]))\n",
    "print(\"\\tWheat Bread {}\".format(opt_servings[2, 0]))\n",
    "\n",
    "print(\"\\nTotal cost is {}\".format(totalCost.value[0, 0]))\n",
    "print(\"Total vitamin A is {}\".format(totalVitA.value[0, 0]))\n",
    "print(\"Total calories is {}\".format(totalCalories.value[0, 0]))"
   ]
  }
 ],
 "metadata": {
  "kernelspec": {
   "display_name": "Python 3",
   "language": "python",
   "name": "python3"
  },
  "language_info": {
   "codemirror_mode": {
    "name": "ipython",
    "version": 3
   },
   "file_extension": ".py",
   "mimetype": "text/x-python",
   "name": "python",
   "nbconvert_exporter": "python",
   "pygments_lexer": "ipython3",
   "version": "3.8.10"
  }
 },
 "nbformat": 4,
 "nbformat_minor": 5
}
