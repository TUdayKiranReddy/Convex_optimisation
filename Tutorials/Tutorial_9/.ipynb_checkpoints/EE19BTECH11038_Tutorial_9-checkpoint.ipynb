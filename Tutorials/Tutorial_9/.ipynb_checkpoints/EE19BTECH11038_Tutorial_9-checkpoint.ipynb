{
 "cells": [
  {
   "cell_type": "code",
   "execution_count": 1,
   "id": "c628c3d7",
   "metadata": {},
   "outputs": [],
   "source": [
    "import numpy as np\n",
    "import cvxpy as cp\n",
    "from cvxpy.settings import OPTIMAL"
   ]
  },
  {
   "cell_type": "markdown",
   "id": "859635ce",
   "metadata": {},
   "source": [
    "# DATA"
   ]
  },
  {
   "cell_type": "code",
   "execution_count": 2,
   "id": "6831b31a",
   "metadata": {},
   "outputs": [],
   "source": [
    "G = np.matrix([[1.0,0.1,0.2,0.1,0.0],\n",
    "               [0.1,1.0,0.1,0.1,0.0],\n",
    "               [0.2,0.1,2.0,0.2,0.2],\n",
    "               [0.1,0.1,0.2,1.0,0.1],\n",
    "               [0.0,0.0,0.2,0.1,1.0]])\n",
    "n = 5\n",
    "P_tx_max = 3\n",
    "P_rx_max = 5\n",
    "P_grp_max = np.array([4, 6]).reshape(-1, 1)\n",
    "sigma = 0.5"
   ]
  },
  {
   "cell_type": "code",
   "execution_count": 3,
   "id": "40e454b5",
   "metadata": {},
   "outputs": [],
   "source": [
    "p = cp.Variable((n, 1))\n",
    "alpha = cp.Parameter(nonneg=True)"
   ]
  },
  {
   "cell_type": "code",
   "execution_count": 4,
   "id": "4420c7d2",
   "metadata": {},
   "outputs": [],
   "source": [
    "G_diag = np.diag(np.diag(G))\n",
    "G_nondiag = G - G_diag\n",
    "\n",
    "total_rx_power = G@p\n",
    "\n",
    "S = G_diag@p\n",
    "I = G_nondiag@p\n",
    "\n",
    "SINR = S/(I + sigma)\n",
    "\n",
    "\n",
    "group_matrix = np.matrix([[1, 1, 0, 0, 0], [0, 0, 1, 1, 1]])\n",
    "P_grp_tx = group_matrix@p"
   ]
  },
  {
   "cell_type": "code",
   "execution_count": 5,
   "id": "4f34183c",
   "metadata": {},
   "outputs": [],
   "source": [
    "Constraints = [\n",
    "    0 <= p,\n",
    "    p <= P_tx_max,\n",
    "    total_rx_power <= P_rx_max*np.ones((5, 1)),\n",
    "    P_grp_tx <= P_grp_max,\n",
    "    (I + sigma) <= alpha*S\n",
    "]\n",
    "Objective = cp.Minimize(0)\n",
    "\n",
    "problem = cp.Problem(objective=Objective, constraints=Constraints)"
   ]
  },
  {
   "cell_type": "code",
   "execution_count": 8,
   "id": "185e575b",
   "metadata": {
    "scrolled": false
   },
   "outputs": [
    {
     "name": "stdout",
     "output_type": "stream",
     "text": [
      "#ITR:0 e=100000.0, Is Converged ? False\n",
      "#ITR:1 e=50000.0, Is Converged ? False\n",
      "#ITR:2 e=25000.0, Is Converged ? False\n",
      "#ITR:3 e=12500.0, Is Converged ? False\n",
      "#ITR:4 e=6250.0, Is Converged ? False\n",
      "#ITR:5 e=3125.0, Is Converged ? False\n",
      "#ITR:6 e=1562.5, Is Converged ? False\n",
      "#ITR:7 e=781.25, Is Converged ? False\n",
      "#ITR:8 e=390.625, Is Converged ? False\n",
      "#ITR:9 e=195.3125, Is Converged ? False\n",
      "#ITR:10 e=97.65625, Is Converged ? False\n",
      "#ITR:11 e=48.828125, Is Converged ? False\n",
      "#ITR:12 e=24.4140625, Is Converged ? False\n",
      "#ITR:13 e=12.20703125, Is Converged ? False\n",
      "#ITR:14 e=6.103515625, Is Converged ? False\n",
      "#ITR:15 e=3.0517578125, Is Converged ? False\n",
      "#ITR:16 e=1.52587890625, Is Converged ? False\n",
      "#ITR:17 e=0.762939453125, Is Converged ? False\n",
      "#ITR:18 e=0.3814697265625, Is Converged ? False\n",
      "#ITR:19 e=0.19073486328125, Is Converged ? False\n",
      "#ITR:20 e=0.095367431640625, Is Converged ? False\n",
      "#ITR:21 e=0.0476837158203125, Is Converged ? False\n",
      "#ITR:22 e=0.02384185791015625, Is Converged ? False\n",
      "#ITR:23 e=0.011920928955078125, Is Converged ? False\n",
      "#ITR:24 e=0.0059604644775390625, Is Converged ? False\n",
      "#ITR:25 e=0.0029802322387695312, Is Converged ? False\n",
      "#ITR:26 e=0.0014901161193847656, Is Converged ? False\n",
      "SANITY CHECK:- Is Converged ? True\n",
      "\n",
      "\n",
      "Theoretical number of iterations to converge is ceil(log2(e/e_0)) = 27\n"
     ]
    }
   ],
   "source": [
    "l = 0\n",
    "u = 1e5\n",
    "e_0 = 0.05\n",
    "i = 0\n",
    "e = u-l\n",
    "\n",
    "while (l <= u and u - l > e_0):\n",
    "    alpha.value = 0.5*(l + u)\n",
    "    print(\"#ITR:{} e={}, Is Converged ? {}\".format(i, u-l, u - l <= e_0))\n",
    "    \n",
    "    problem.solve()\n",
    "    \n",
    "    if problem.status == OPTIMAL:\n",
    "        u = alpha.value\n",
    "    else:\n",
    "        l = alpha.value\n",
    "    i += 1\n",
    "    \n",
    "    \n",
    "print(\"SANITY CHECK:- Is Converged ? {}\".format(u - l <= e_0))\n",
    "print(\"\\n\\nTheoretical number of iterations to converge is ceil(log2(e/e_0)) = {}\".format(int(np.ceil(np.log2(e/e_0)))))"
   ]
  },
  {
   "cell_type": "code",
   "execution_count": 9,
   "id": "ba0fc3ab",
   "metadata": {},
   "outputs": [
    {
     "name": "stdout",
     "output_type": "stream",
     "text": [
      "Tx powers = [2.11870808 1.88115129 1.64454    2.37911089 1.80223683]\n",
      "Maximum Tx power = 2.3791108868288537 and Limit = 3\n",
      "Tx power of group [1, 2] = 3.9998593719711972 and Limit = 4\n",
      "Tx power of group [3, 4, 5] = 5.825887711062148 and Limit = 6\n",
      "\n",
      "Total Rx powers = [2.8736423  2.49538719 4.73720628 3.28822851 2.36905592] and Limit = 5\n",
      "\n",
      "SINR = [1.68830211 1.68828818 1.68832997 1.68836927 1.68935563]\n",
      "Maximum SINR = 1.6893556271114292, Minimum SINR = 1.6882881771965583\n"
     ]
    }
   ],
   "source": [
    "print(\"Tx powers = {}\".format(p.value[:, 0]))\n",
    "print(\"Maximum Tx power = {} and Limit = {}\".format(np.max(p.value[:, 0]), P_tx_max))\n",
    "print(\"Tx power of group [1, 2] = {} and Limit = {}\".format(P_grp_tx.value[0, 0], P_grp_max[0, 0]))\n",
    "print(\"Tx power of group [3, 4, 5] = {} and Limit = {}\".format(P_grp_tx.value[1, 0], P_grp_max[1, 0]))\n",
    "print(\"\\nTotal Rx powers = {} and Limit = {}\".format(total_rx_power.value[:, 0], P_rx_max))\n",
    "print(\"\\nSINR = {}\".format(SINR.value[:, 0]))\n",
    "print(\"Maximum SINR = {}, Minimum SINR = {}\".format(np.max(SINR.value[:, 0]), np.min(SINR.value[:, 0])))"
   ]
  }
 ],
 "metadata": {
  "kernelspec": {
   "display_name": "Python 3",
   "language": "python",
   "name": "python3"
  },
  "language_info": {
   "codemirror_mode": {
    "name": "ipython",
    "version": 3
   },
   "file_extension": ".py",
   "mimetype": "text/x-python",
   "name": "python",
   "nbconvert_exporter": "python",
   "pygments_lexer": "ipython3",
   "version": "3.8.10"
  }
 },
 "nbformat": 4,
 "nbformat_minor": 5
}
