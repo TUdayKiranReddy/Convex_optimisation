{
 "cells": [
  {
   "cell_type": "code",
   "execution_count": 1,
   "id": "c628c3d7",
   "metadata": {},
   "outputs": [],
   "source": [
    "import numpy as np\n",
    "import cvxpy as cp"
   ]
  },
  {
   "cell_type": "markdown",
   "id": "859635ce",
   "metadata": {},
   "source": [
    "# DATA"
   ]
  },
  {
   "cell_type": "code",
   "execution_count": 3,
   "id": "6831b31a",
   "metadata": {},
   "outputs": [],
   "source": [
    "G = np.array([[1.0, 0.1, 0.2, 0.1, 0.0],\n",
    "              [0.1, 0.1, 0.1, 0.1, 0.0],\n",
    "              [0.2, 0.1, 2.0, 0.2, 0.2],\n",
    "              [0.1, 0.1, 0.2, 1.0, 0.1],\n",
    "              [0.0, 0.0, 0.2, 0.1, 1.0]])\n",
    "n = 5"
   ]
  },
  {
   "cell_type": "code",
   "execution_count": 5,
   "id": "40e454b5",
   "metadata": {},
   "outputs": [],
   "source": [
    "p = cp.Variable((n, 1))\n",
    "alpha = cp.Parameter"
   ]
  }
 ],
 "metadata": {
  "kernelspec": {
   "display_name": "Python 3",
   "language": "python",
   "name": "python3"
  },
  "language_info": {
   "codemirror_mode": {
    "name": "ipython",
    "version": 3
   },
   "file_extension": ".py",
   "mimetype": "text/x-python",
   "name": "python",
   "nbconvert_exporter": "python",
   "pygments_lexer": "ipython3",
   "version": "3.8.10"
  }
 },
 "nbformat": 4,
 "nbformat_minor": 5
}
