{
 "cells": [
  {
   "cell_type": "code",
   "execution_count": 1,
   "id": "f9dfbd99",
   "metadata": {},
   "outputs": [],
   "source": [
    "import numpy as np\n",
    "import matplotlib.pyplot as plt\n",
    "import cvxpy as cp"
   ]
  },
  {
   "cell_type": "code",
   "execution_count": 2,
   "id": "d2b21a9c",
   "metadata": {},
   "outputs": [
    {
     "ename": "SyntaxError",
     "evalue": "invalid syntax (<ipython-input-2-19f16f9ff76f>, line 5)",
     "output_type": "error",
     "traceback": [
      "\u001b[0;36m  Input \u001b[0;32mIn [2]\u001b[0;36m\u001b[0m\n\u001b[0;31m    X = [ 13.2 \t-0.6 \t10.9 \t10.5 \t12.0 \t17.3 \t18.7 \t14.9 \t16.9 \t14.2 \t15.8 \t16.4 \t6.3 \t9.1 \t17.2 \t11.7 \t10.2 \t12.2 \t8.7 \t18.0 \t11.8 \t21.9 \t23.7 \t12.5 \t14.0 \t9.2 \t20.3 \t19.9 \t13.3 \t4.5 \t22.8 \t17.0 \t13.4 \t18.7 \t17.6 \t6.3 \t12.4 \t11.0 \t12.6 \t15.7 \t21.7 \t22.3 \t18.2 \t7.9 \t21.3 \t9.1 \t4.7 \t17.9 \t18.5 \t21.8 \t; ...\u001b[0m\n\u001b[0m               \t     \t^\u001b[0m\n\u001b[0;31mSyntaxError\u001b[0m\u001b[0;31m:\u001b[0m invalid syntax\n"
     ]
    }
   ],
   "source": [
    "from scipy import loadmat\n",
    "\n",
    "< = 40\n",
    "\n",
    "X = loadmat('X.mat')['X']\n",
    "Y = loadmat('Y.mat')['Y']"
   ]
  },
  {
   "cell_type": "code",
   "execution_count": null,
   "id": "2899795d",
   "metadata": {},
   "outputs": [],
   "source": []
  }
 ],
 "metadata": {
  "kernelspec": {
   "display_name": "Python 3",
   "language": "python",
   "name": "python3"
  },
  "language_info": {
   "codemirror_mode": {
    "name": "ipython",
    "version": 3
   },
   "file_extension": ".py",
   "mimetype": "text/x-python",
   "name": "python",
   "nbconvert_exporter": "python",
   "pygments_lexer": "ipython3",
   "version": "3.8.10"
  }
 },
 "nbformat": 4,
 "nbformat_minor": 5
}
