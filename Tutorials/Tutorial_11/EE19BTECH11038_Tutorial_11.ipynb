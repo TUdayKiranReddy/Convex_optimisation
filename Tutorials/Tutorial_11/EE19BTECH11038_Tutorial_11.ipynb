{
 "cells": [
  {
   "cell_type": "code",
   "execution_count": 1,
   "id": "825d1034",
   "metadata": {},
   "outputs": [],
   "source": [
    "import numpy as np\n",
    "import matplotlib.pyplot as plt\n",
    "import cvxpy as cp"
   ]
  },
  {
   "cell_type": "markdown",
   "id": "2ca0afb5",
   "metadata": {},
   "source": [
    "# Data"
   ]
  },
  {
   "cell_type": "code",
   "execution_count": 2,
   "id": "5c7005b2",
   "metadata": {},
   "outputs": [],
   "source": [
    "from scipy.io import loadmat\n",
    "\n",
    "M = 50\n",
    "n = 50\n",
    "N = 50\n",
    "\n",
    "X = loadmat('X.mat')['X']\n",
    "Y = loadmat('Y.mat')['Y']"
   ]
  },
  {
   "cell_type": "markdown",
   "id": "482a94e0",
   "metadata": {},
   "source": [
    "# Solver"
   ]
  },
  {
   "cell_type": "code",
   "execution_count": 3,
   "id": "9dc01179",
   "metadata": {},
   "outputs": [],
   "source": [
    "def svm(lamda):\n",
    "    a = cp.Variable((n, 1))\n",
    "    b = cp.Variable()\n",
    "    \n",
    "    cost = cp.norm(a, 2) + lamda*cp.norm(a, 1)\n",
    "    Objective = cp.Minimize(cost)\n",
    "    \n",
    "    Constraints = [\n",
    "        a.T@X - b >= 1,\n",
    "        a.T@Y - b <= -1\n",
    "    ]\n",
    "    \n",
    "    problem = cp.Problem(objective=Objective, constraints=Constraints)\n",
    "    problem.solve();\n",
    "    return a.value, b.value"
   ]
  },
  {
   "cell_type": "code",
   "execution_count": 4,
   "id": "e731d2d1",
   "metadata": {},
   "outputs": [],
   "source": [
    "def card(a):\n",
    "    x = np.abs(a)\n",
    "    return np.sum(x > 1e-4)\n",
    "\n",
    "def thickness(a):\n",
    "    return 2/np.linalg.norm(a)"
   ]
  },
  {
   "cell_type": "markdown",
   "id": "b46b0b62",
   "metadata": {},
   "source": [
    "# Without L1-Regularization"
   ]
  },
  {
   "cell_type": "code",
   "execution_count": 5,
   "id": "e365ae2c",
   "metadata": {},
   "outputs": [
    {
     "name": "stdout",
     "output_type": "stream",
     "text": [
      "Thickness := 116.42440500753194\n"
     ]
    }
   ],
   "source": [
    "a, b = svm(0)\n",
    "\n",
    "print(\"Thickness := {}\".format(thickness(a)))"
   ]
  },
  {
   "cell_type": "markdown",
   "id": "a4b4e6ce",
   "metadata": {},
   "source": [
    "# L1 - Regularization\n"
   ]
  },
  {
   "cell_type": "code",
   "execution_count": 6,
   "id": "f12e71c0",
   "metadata": {},
   "outputs": [],
   "source": [
    "A = []\n",
    "B = []\n",
    "\n",
    "lamda = np.logspace(-3, 3, num=100)\n",
    "for l in lamda:\n",
    "    a, b = svm(l)\n",
    "    A.append(a)\n",
    "    B.append(b)\n",
    "A = np.array(A)\n",
    "B = np.array(B)"
   ]
  },
  {
   "cell_type": "code",
   "execution_count": 7,
   "id": "575eecaf",
   "metadata": {},
   "outputs": [],
   "source": [
    "thicks = []\n",
    "cards = []\n",
    "for a in A:\n",
    "    thicks.append(thickness(a))\n",
    "    cards.append(card(a))\n",
    "\n",
    "thicks = np.array(thicks)\n",
    "cards = np.array(cards)"
   ]
  },
  {
   "cell_type": "code",
   "execution_count": 8,
   "id": "8ce1cd8d",
   "metadata": {},
   "outputs": [
    {
     "data": {
      "image/png": "[encoded data removed]",
      "text/plain": [
       "<Figure size 720x576 with 1 Axes>"
      ]
     },
     "metadata": {
      "needs_background": "light"
     },
     "output_type": "display_data"
    }
   ],
   "source": [
    "plt.figure(figsize=(10, 8))\n",
    "plt.title(\"L1-regularization\")\n",
    "plt.plot(cards, thicks, \"-.r\")\n",
    "plt.xlabel(\"Cardinality\")\n",
    "plt.ylabel(\"Slab thickness\")\n",
    "plt.grid()\n",
    "plt.show()"
   ]
  },
  {
   "cell_type": "markdown",
   "id": "c3cce7e2",
   "metadata": {},
   "source": [
    "# Numerical choice of cardinality of 10"
   ]
  },
  {
   "cell_type": "code",
   "execution_count": 9,
   "id": "bf582f40",
   "metadata": {},
   "outputs": [],
   "source": [
    "idx = cards == 10\n",
    "t = thicks\n",
    "t[idx] = thicks[idx]\n",
    "t[np.logical_not(idx)] = 0\n",
    "\n",
    "idx = np.argmax(t)"
   ]
  },
  {
   "cell_type": "code",
   "execution_count": 10,
   "id": "f81fdb74",
   "metadata": {},
   "outputs": [],
   "source": [
    "idxs = np.abs(A[idx]) <= 1e-4"
   ]
  },
  {
   "cell_type": "code",
   "execution_count": 11,
   "id": "8309cbcc",
   "metadata": {},
   "outputs": [
    {
     "name": "stdout",
     "output_type": "stream",
     "text": [
      "Non zero indices := [ 0  6  7 17 18 20 22 25 26 45]\n",
      "Emperical thickness := 77.02461617313529\n"
     ]
    }
   ],
   "source": [
    "print(\"Non zero indices := {}\".format(np.arange(n)[np.logical_not(idxs[:, 0])]))\n",
    "print(\"Emperical thickness := {}\".format(thickness(A[idx])))"
   ]
  },
  {
   "cell_type": "code",
   "execution_count": 12,
   "id": "17a810ad",
   "metadata": {},
   "outputs": [],
   "source": [
    "def new_svm(idxs):\n",
    "    a = cp.Variable((n, 1))\n",
    "    b = cp.Variable()\n",
    "    \n",
    "    cost = cp.norm(a, 2)\n",
    "    Objective = cp.Minimize(cost)\n",
    "    \n",
    "    \n",
    "    Constraints = [\n",
    "        a.T@X - b >= 1,\n",
    "        a.T@Y - b <= -1,\n",
    "        a[idxs] == 0\n",
    "    ]\n",
    "    \n",
    "    problem = cp.Problem(objective=Objective, constraints=Constraints)\n",
    "    problem.solve();\n",
    "    return a.value, b.value"
   ]
  },
  {
   "cell_type": "code",
   "execution_count": 13,
   "id": "769b54fb",
   "metadata": {},
   "outputs": [],
   "source": [
    "a, b = new_svm(idxs)"
   ]
  },
  {
   "cell_type": "code",
   "execution_count": 14,
   "id": "ac0fbb01",
   "metadata": {},
   "outputs": [
    {
     "name": "stdout",
     "output_type": "stream",
     "text": [
      "Non zero indices := [ 0  6  7 17 18 20 22 25 26 45]\n",
      "Emperical thickness := 78.469676298104\n"
     ]
    }
   ],
   "source": [
    "print(\"Non zero indices := {}\".format(np.arange(n)[(np.abs(a) > 1e-4)[:, 0]]))\n",
    "print(\"Emperical thickness := {}\".format(thickness(a)))"
   ]
  }
 ],
 "metadata": {
  "kernelspec": {
   "display_name": "Python 3",
   "language": "python",
   "name": "python3"
  },
  "language_info": {
   "codemirror_mode": {
    "name": "ipython",
    "version": 3
   },
   "file_extension": ".py",
   "mimetype": "text/x-python",
   "name": "python",
   "nbconvert_exporter": "python",
   "pygments_lexer": "ipython3",
   "version": "3.8.10"
  }
 },
 "nbformat": 4,
 "nbformat_minor": 5
}
