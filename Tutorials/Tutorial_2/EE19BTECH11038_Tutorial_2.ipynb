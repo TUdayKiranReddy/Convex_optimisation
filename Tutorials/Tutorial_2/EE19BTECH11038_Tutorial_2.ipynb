{
 "cells": [
  {
   "cell_type": "markdown",
   "id": "67cbd000",
   "metadata": {},
   "source": [
    "# Dataset"
   ]
  },
  {
   "cell_type": "code",
   "execution_count": 1,
   "id": "7124be3a",
   "metadata": {},
   "outputs": [],
   "source": [
    "import numpy as np\n",
    "\n",
    "# Exchange rate data.\n",
    "tickers = [\"USD\", \"EUR\", \"GBP\", \"CAD\", \"JPY\", \"CNY\", \"RUB\", \"MXN\", \"INR\", \"BRL\"]\n",
    "n = len(tickers)\n",
    "F = np.zeros((n, n))\n",
    "# USD\n",
    "data = ([1.0, 0.87, 0.76, 1.31, 108.90, 6.72, 65.45, 19.11, 71.13, 3.69],\n",
    "# EUR\n",
    "[1.0, 0.88, 1.51, 125.15, 7.72, 75.23, 21.96, 81.85, 4.24],\n",
    "# GBP\n",
    "[1.0, 1.72, 142.94, 8.82, 85.90, 25.08, 93.50, 4.84],\n",
    "# CAD\n",
    "[1.0, 82.93, 5.11, 49.82, 14.54, 54.23, 2.81],\n",
    "# JPY\n",
    "[1.0, 0.062, 0.60, 0.18, 0.65, 0.034],\n",
    "# CNY\n",
    "[1.0, 9.74, 2.85, 10.61, 0.55],\n",
    "# RUB\n",
    "[1.0, 0.29, 1.09, 0.056],\n",
    "# MXN\n",
    "[1.0, 3.73, 0.19],\n",
    "# INR\n",
    "[1.0, 0.052],\n",
    "# BRL\n",
    "[1.0])\n",
    "for i in range(n):\n",
    "    F[i,i:] = data[i]\n",
    "for j in range(n):\n",
    "    for i in range(j+1,n):\n",
    "        F[i,j] = 1.035/F[j,i]\n",
    "        \n",
    "# Initial and final portfolios.\n",
    "c_req = np.arange(1,n+1)\n",
    "c_req = 1e4*c_req/c_req.sum()\n",
    "c_init = c_req[::-1]"
   ]
  },
  {
   "cell_type": "markdown",
   "id": "efe385f7",
   "metadata": {},
   "source": [
    "# Problem solving"
   ]
  },
  {
   "cell_type": "markdown",
   "id": "0f9f1887",
   "metadata": {},
   "source": [
    "### Goal / Objective\n",
    "We need to find the exchange matrix such the we minimize the cost of exchanges.\n",
    "\n",
    "### Constraints\n",
    "1. Given *c_init* which is initial amount of currenicies and we should not excced this while exchanging.\n",
    "2. After currency exchanges each currency should not go below value given in *c_req*.\n",
    "3. Exchanges should not be negative.\n",
    "4. Currency i to currency i exchanges should be 0."
   ]
  },
  {
   "cell_type": "code",
   "execution_count": 2,
   "id": "aaad2f40",
   "metadata": {},
   "outputs": [],
   "source": [
    "import cvxpy as cp"
   ]
  },
  {
   "cell_type": "markdown",
   "id": "d1cc1ff9",
   "metadata": {},
   "source": [
    "*X* is the control variable which is of size *(n, n)*. Where *n* is number of currencies. "
   ]
  },
  {
   "cell_type": "code",
   "execution_count": 3,
   "id": "3c9bf079",
   "metadata": {},
   "outputs": [],
   "source": [
    "X = cp.Variable((n, n))"
   ]
  },
  {
   "cell_type": "markdown",
   "id": "016f7510",
   "metadata": {},
   "source": [
    "*USD_value_matrix* is a diagonal matrix which is helpful for computing current holdings in USD."
   ]
  },
  {
   "cell_type": "code",
   "execution_count": 4,
   "id": "bb3990e0",
   "metadata": {},
   "outputs": [],
   "source": [
    "USD_value_matrix = np.array([np.sqrt(F[i, 0]/F[0, i]) for i in range(n)])\n",
    "USD_value_matrix = np.diag(USD_value_matrix)"
   ]
  },
  {
   "cell_type": "markdown",
   "id": "cae1e4c5",
   "metadata": {},
   "source": [
    "*c_final* is vector which indicates amount of each currency after exchanges are done.\\\n",
    "Mathematically it is,\\\n",
    "$$\\vec{c\\_final} = \\vec{c\\_init} - \\mathbf{X}^T\\vec{1} + \\frac{\\mathbf{X}}{\\mathbf{F}}\\vec{1}$$"
   ]
  },
  {
   "cell_type": "code",
   "execution_count": 5,
   "id": "4534bf4b",
   "metadata": {},
   "outputs": [],
   "source": [
    "ones = np.ones((n, 1))\n",
    "c_init = c_init.reshape((n, 1))\n",
    "c_req = c_req.reshape((n, 1))\n",
    "out_exchanges = X.T@ones\n",
    "\n",
    "c_final = c_init - out_exchanges + (X/F)@ones"
   ]
  },
  {
   "cell_type": "markdown",
   "id": "1b2ef434",
   "metadata": {},
   "source": [
    "$Initial\\_holdings = \\sum c_i\\_init\\sqrt{\\frac{F_{i0}}{F_{0i}}}$, this represents total USD value of inital amount of currencies.\\\n",
    "$Final\\_holdings = \\sum c_i\\_final\\sqrt{\\frac{F_{i0}}{F_{0i}}}$, this represents total USD value of final amount of currencies.\\\n",
    "Our objective is to minimize the cost of exchange which is,\\\n",
    "$$\n",
    "Objective = min\\{Initial\\_holdings - Final\\_holdings\\}\\\\\n",
    "= min\\{\\sum (c_i\\_init - c_i\\_final)\\sqrt{\\frac{F_{i0}}{F_{0i}}}\\}\\\\\n",
    "= min\\{\\vec{1} X \\mathbf{USD\\_value\\_matrix} X \\left(\\vec{c\\_init} - \\vec{c\\_final}\\right)\\}\n",
    "$$"
   ]
  },
  {
   "cell_type": "code",
   "execution_count": 6,
   "id": "26fd7f68",
   "metadata": {},
   "outputs": [],
   "source": [
    "cost_of_exchange = ones.T@USD_value_matrix@(c_init - c_final)"
   ]
  },
  {
   "cell_type": "markdown",
   "id": "5e0428c4",
   "metadata": {},
   "source": [
    "Here constraints are,\n",
    "1. $\\mathbf{X} \\ge \\mathbf{0}$\n",
    "2. $X_{ii} = 0$ $\\forall i \\in [0, n)$\n",
    "3. $c\\_final \\ge c\\_req$\n",
    "4. $\\mathbf{X}^T\\vec{1} \\le c\\_init$"
   ]
  },
  {
   "cell_type": "code",
   "execution_count": 7,
   "id": "49fd4d9f",
   "metadata": {},
   "outputs": [],
   "source": [
    "Constraints = [X >= 0,\n",
    "              cp.diag(X) == 0,\n",
    "              c_final >= c_req,\n",
    "              out_exchanges <= c_init]"
   ]
  },
  {
   "cell_type": "code",
   "execution_count": 8,
   "id": "2d6c702c",
   "metadata": {},
   "outputs": [],
   "source": [
    "# Our objective is to minimize the total cost of exchange adhereing to above constraints\n",
    "Objective = cp.Minimize(cost_of_exchange)\n",
    "prob = cp.Problem(objective=Objective, constraints=Constraints) # Defining the problem\n",
    "prob.solve(); # Solving the problem"
   ]
  },
  {
   "cell_type": "code",
   "execution_count": 9,
   "id": "bd3addcc",
   "metadata": {},
   "outputs": [
    {
     "name": "stdout",
     "output_type": "stream",
     "text": [
      "X*: \n",
      " [[  0.     0.     0.     0.     0.     0.     0.     0.     0.     0.  ]\n",
      " [  0.     0.     0.     0.     0.     0.     0.     0.     0.     0.  ]\n",
      " [  0.     0.     0.   545.45   0.     0.     0.     0.     0.     0.  ]\n",
      " [  0.     0.     0.     0.     0.     0.     0.     0.     0.     0.  ]\n",
      " [  0.     0.     0.     0.     0.     0.     0.     0.     0.     0.  ]\n",
      " [ 16.5    0.     0.     0.     0.     0.   727.27   0.     0.     0.  ]\n",
      " [  0.     0.     0.     0.     0.     0.     0.   369.09   0.     0.  ]\n",
      " [ 15.69   0.     0.     0.   181.82   0.     0.     0.     0.   181.82]\n",
      " [ 18.52   0.     0.     0.     0.     0.     0.     0.     0.     0.  ]\n",
      " [509.98   0.     0.     0.     0.     0.     0.     0.     0.     0.  ]]\n"
     ]
    }
   ],
   "source": [
    "X_star = X.value\n",
    "print(\"X*: \\n\", np.round(X_star, 2))"
   ]
  },
  {
   "cell_type": "code",
   "execution_count": 10,
   "id": "0a6cc51c",
   "metadata": {},
   "outputs": [
    {
     "name": "stdout",
     "output_type": "stream",
     "text": [
      "Amount of EUR converted for USD is 4.2637896215846876e-09\n",
      "Amount of GBP converted for USD is 3.6957171068345315e-09\n",
      "Amount of CAD converted for USD is 5.646154722790683e-09\n",
      "Amount of JPY converted for USD is 3.287106501755363e-07\n",
      "Amount of CNY converted for USD is 1.6132108596088276e-08\n",
      "Amount of RUB converted for USD is 1.5212464387640018e-07\n",
      "Amount of MXN converted for USD is 4.4568050006253845e-08\n",
      "Amount of INR converted for USD is 1.2890549246628384e-07\n",
      "Amount of BRL converted for USD is 5.88965811318453e-09\n",
      "Amount of USD converted for EUR is 5.059407609960219e-09\n",
      "Amount of GBP converted for EUR is 8.669683794922768e-09\n",
      "Amount of CAD converted for EUR is 2.1821708924757258e-08\n",
      "Amount of JPY converted for EUR is 1.2551393210413878e-06\n",
      "Amount of CNY converted for EUR is 3.3108335461217e-08\n",
      "Amount of RUB converted for EUR is 3.093187791386473e-07\n",
      "Amount of MXN converted for EUR is 8.835035610593377e-08\n",
      "Amount of INR converted for EUR is 1.956952526260947e-07\n",
      "Amount of BRL converted for EUR is 8.916953641744118e-09\n",
      "Amount of USD converted for GBP is 5.061447921370314e-09\n",
      "Amount of EUR converted for GBP is 2.7899162729569597e-09\n",
      "Amount of CAD converted for GBP is 545.4545454802902\n",
      "Amount of JPY converted for GBP is 2.199260858888858e-06\n",
      "Amount of CNY converted for GBP is 3.7545149045253596e-08\n",
      "Amount of RUB converted for GBP is 3.6734769052184477e-07\n",
      "Amount of MXN converted for GBP is 1.0189260438057727e-07\n",
      "Amount of INR converted for GBP is 2.1154095621445278e-07\n",
      "Amount of BRL converted for GBP is 9.740078953982502e-09\n",
      "Amount of USD converted for CAD is 5.5517537830442714e-09\n",
      "Amount of EUR converted for CAD is 2.5124421456647252e-09\n",
      "Amount of GBP converted for CAD is 1.8883290741967885e-09\n",
      "Amount of JPY converted for CAD is 6.781311857284583e-06\n",
      "Amount of CNY converted for CAD is 4.931007384774086e-08\n",
      "Amount of RUB converted for CAD is 4.500378998445488e-07\n",
      "Amount of MXN converted for CAD is 1.2544486291927827e-07\n",
      "Amount of INR converted for CAD is 2.3711031619793976e-07\n",
      "Amount of BRL converted for CAD is 1.0194629427186258e-08\n",
      "Amount of USD converted for JPY is 1.0115391030230863e-08\n",
      "Amount of EUR converted for JPY is 2.7105062836952436e-09\n",
      "Amount of GBP converted for JPY is 2.1794736166244448e-09\n",
      "Amount of CAD converted for JPY is 3.488208990084408e-09\n",
      "Amount of CNY converted for JPY is 4.065647476753857e-08\n",
      "Amount of RUB converted for JPY is 8.839957269979691e-07\n",
      "Amount of MXN converted for JPY is 4.383171974590712e-08\n",
      "Amount of INR converted for JPY is 9.491680162827556e-07\n",
      "Amount of BRL converted for JPY is 1.0181018503498173e-08\n",
      "Amount of USD converted for CNY is 16.50294006500773\n",
      "Amount of EUR converted for CNY is 4.03105383314787e-09\n",
      "Amount of GBP converted for CNY is 3.1763088337357637e-09\n",
      "Amount of CAD converted for CNY is 4.65764454357757e-09\n",
      "Amount of JPY converted for CNY is 4.0562358267420516e-07\n",
      "Amount of RUB converted for CNY is 727.2727238144903\n",
      "Amount of MXN converted for CNY is 6.533620043961351e-07\n",
      "Amount of INR converted for CNY is 3.743126551295423e-06\n",
      "Amount of BRL converted for CNY is 1.6120196235809967e-08\n",
      "Amount of USD converted for RUB is 1.1731646446714805e-08\n",
      "Amount of EUR converted for RUB is 3.042837916768152e-09\n",
      "Amount of GBP converted for RUB is 2.4017908840815383e-09\n",
      "Amount of CAD converted for RUB is 3.775864881506811e-09\n",
      "Amount of JPY converted for RUB is 2.4849773681788445e-07\n",
      "Amount of CNY converted for RUB is 1.3518580496873714e-08\n",
      "Amount of MXN converted for RUB is 369.09090832814155\n",
      "Amount of INR converted for RUB is 3.2593926378209166e-07\n",
      "Amount of BRL converted for RUB is 1.803714203348949e-08\n",
      "Amount of USD converted for MXN is 15.686043305315513\n",
      "Amount of EUR converted for MXN is 4.060571129728477e-09\n",
      "Amount of GBP converted for MXN is 3.136844160492984e-09\n",
      "Amount of CAD converted for MXN is 4.7300700402268495e-09\n",
      "Amount of JPY converted for MXN is 181.81817470800374\n",
      "Amount of CNY converted for MXN is 1.7005561786240108e-08\n",
      "Amount of RUB converted for MXN is 1.2701604237044996e-07\n",
      "Amount of INR converted for MXN is 5.640627077685701e-06\n",
      "Amount of BRL converted for MXN is 181.81818170605322\n",
      "Amount of USD converted for INR is 18.51922870264791\n",
      "Amount of EUR converted for INR is 4.365300766213116e-09\n",
      "Amount of GBP converted for INR is 3.381204849894129e-09\n",
      "Amount of CAD converted for INR is 5.141334960917769e-09\n",
      "Amount of JPY converted for INR is 2.7589808330395244e-07\n",
      "Amount of CNY converted for INR is 1.6938527673605623e-08\n",
      "Amount of RUB converted for INR is 1.6547965649858924e-07\n",
      "Amount of MXN converted for INR is 4.664674954996564e-08\n",
      "Amount of BRL converted for INR is 1.5369238442858047e-08\n",
      "Amount of USD converted for BRL is 509.9778270269213\n",
      "Amount of EUR converted for BRL is 4.1228950972522925e-09\n",
      "Amount of GBP converted for BRL is 3.1253559788464465e-09\n",
      "Amount of CAD converted for BRL is 5.02687644934214e-09\n",
      "Amount of JPY converted for BRL is 3.799573626895492e-07\n",
      "Amount of CNY converted for BRL is 1.6978340471662092e-08\n",
      "Amount of RUB converted for BRL is 1.275180743744535e-07\n",
      "Amount of MXN converted for BRL is 3.0774886152820704e-08\n",
      "Amount of INR converted for BRL is 1.3551805829882868e-07\n"
     ]
    }
   ],
   "source": [
    "# Priniting all the exchanges\n",
    "for i in range(n):\n",
    "    for j in range(n):\n",
    "        if i != j:\n",
    "            print(\"Amount of {} converted for {} is {}\".format(tickers[j], tickers[i], X_star[i, j]))"
   ]
  },
  {
   "cell_type": "code",
   "execution_count": 11,
   "id": "72d77fa1",
   "metadata": {},
   "outputs": [
    {
     "name": "stdout",
     "output_type": "stream",
     "text": [
      "Currency\t  Final\t\t Initial       Required\n",
      "-------------------------------------------------------\n",
      "  USD\t\t1257.4958\t1818.1818\t182.0\n",
      "  EUR\t\t1636.3636\t1636.3636\t364.0\n",
      "  GBP\t\t1771.6702\t1454.5455\t545.0\n",
      "  CAD\t\t727.2727\t1272.7273\t727.0\n",
      "  JPY\t\t909.0909\t1090.9091\t909.0\n",
      "  CNY\t\t1090.9091\t909.0909\t1091.0\n",
      "  RUB\t\t1272.7273\t727.2727\t1273.0\n",
      "  MXN\t\t1454.5455\t545.4545\t1455.0\n",
      "  INR\t\t1636.3636\t363.6364\t1636.0\n",
      "  BRL\t\t1818.1818\t181.8182\t1818.0\n"
     ]
    }
   ],
   "source": [
    "# Printing the amount of each currency\n",
    "print(\"Currency\\t  Final\\t\\t Initial       Required\")\n",
    "print(\"-------------------------------------------------------\")\n",
    "for i in range(n):\n",
    "    print(\"  {}\\t\\t{}\\t{}\\t{}\".format(tickers[i], np.round(c_final[i, 0].value, 4),\n",
    "                                        np.round(c_init[i, 0], 4), np.round(c_req[i, 0]), 4))"
   ]
  },
  {
   "cell_type": "code",
   "execution_count": 12,
   "id": "23dca05d",
   "metadata": {},
   "outputs": [
    {
     "name": "stdout",
     "output_type": "stream",
     "text": [
      "Total cost of exchange is 7.720059340057901\n"
     ]
    }
   ],
   "source": [
    "# Printing cost of exchange\n",
    "print(\"Total cost of exchange is {}\".format(cost_of_exchange[0, 0].value))"
   ]
  }
 ],
 "metadata": {
  "kernelspec": {
   "display_name": "Python 3",
   "language": "python",
   "name": "python3"
  },
  "language_info": {
   "codemirror_mode": {
    "name": "ipython",
    "version": 3
   },
   "file_extension": ".py",
   "mimetype": "text/x-python",
   "name": "python",
   "nbconvert_exporter": "python",
   "pygments_lexer": "ipython3",
   "version": "3.8.10"
  }
 },
 "nbformat": 4,
 "nbformat_minor": 5
}
